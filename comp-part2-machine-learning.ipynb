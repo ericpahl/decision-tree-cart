{
 "cells": [
  {
   "cell_type": "code",
   "execution_count": 1,
   "metadata": {},
   "outputs": [],
   "source": [
    "#%pip3 install pandas"
   ]
  },
  {
   "cell_type": "code",
   "execution_count": 2,
   "metadata": {},
   "outputs": [],
   "source": [
    "import numpy as np\n",
    "import pandas as pd\n",
    "import cart\n",
    "import categorical_gini\n",
    "import continuous_gini\n",
    "import minimal_cart\n",
    "import tree"
   ]
  },
  {
   "cell_type": "code",
   "execution_count": 3,
   "metadata": {},
   "outputs": [],
   "source": [
    "df = pd.read_csv('~/ExampleData.csv')"
   ]
  },
  {
   "cell_type": "markdown",
   "metadata": {},
   "source": [
    "|Variable name|Data Type|Description|\n",
    "|-------------|---------|-----------|\n",
    "|Treatment<br>(output category)|Categorical|A: Branded drug <br>B: Generic Drug|\n",
    "|Age|Integer|Age in years after birth|\n",
    "|Sex|Categorical|M: Male,<br> F: Female|\n",
    "|OverallHealthIdx|Integer|Score from a self-reported questionnaire|\n",
    "|Time|Integer|Number of hours since emergency room admission|\n",
    "|Censored <br>(poorly named variable)|Categorical|The identifier of the physician type:<br>0: Internal Medicine doctor, <br>1: Family Medicine doctor|"
   ]
  },
  {
   "cell_type": "code",
   "execution_count": 4,
   "metadata": {},
   "outputs": [
    {
     "data": {
      "text/html": [
       "<div>\n",
       "<style scoped>\n",
       "    .dataframe tbody tr th:only-of-type {\n",
       "        vertical-align: middle;\n",
       "    }\n",
       "\n",
       "    .dataframe tbody tr th {\n",
       "        vertical-align: top;\n",
       "    }\n",
       "\n",
       "    .dataframe thead th {\n",
       "        text-align: right;\n",
       "    }\n",
       "</style>\n",
       "<table border=\"1\" class=\"dataframe\">\n",
       "  <thead>\n",
       "    <tr style=\"text-align: right;\">\n",
       "      <th></th>\n",
       "      <th>Treatment</th>\n",
       "      <th>Age</th>\n",
       "      <th>Sex</th>\n",
       "      <th>OverallHealthIdx</th>\n",
       "      <th>Time</th>\n",
       "      <th>Censored</th>\n",
       "    </tr>\n",
       "  </thead>\n",
       "  <tbody>\n",
       "    <tr>\n",
       "      <th>0</th>\n",
       "      <td>A</td>\n",
       "      <td>95</td>\n",
       "      <td>M</td>\n",
       "      <td>56</td>\n",
       "      <td>39</td>\n",
       "      <td>1</td>\n",
       "    </tr>\n",
       "    <tr>\n",
       "      <th>1</th>\n",
       "      <td>A</td>\n",
       "      <td>85</td>\n",
       "      <td>M</td>\n",
       "      <td>66</td>\n",
       "      <td>37</td>\n",
       "      <td>1</td>\n",
       "    </tr>\n",
       "    <tr>\n",
       "      <th>2</th>\n",
       "      <td>A</td>\n",
       "      <td>73</td>\n",
       "      <td>F</td>\n",
       "      <td>67</td>\n",
       "      <td>39</td>\n",
       "      <td>1</td>\n",
       "    </tr>\n",
       "    <tr>\n",
       "      <th>3</th>\n",
       "      <td>A</td>\n",
       "      <td>62</td>\n",
       "      <td>M</td>\n",
       "      <td>39</td>\n",
       "      <td>23</td>\n",
       "      <td>0</td>\n",
       "    </tr>\n",
       "    <tr>\n",
       "      <th>4</th>\n",
       "      <td>A</td>\n",
       "      <td>62</td>\n",
       "      <td>M</td>\n",
       "      <td>92</td>\n",
       "      <td>29</td>\n",
       "      <td>0</td>\n",
       "    </tr>\n",
       "    <tr>\n",
       "      <th>...</th>\n",
       "      <td>...</td>\n",
       "      <td>...</td>\n",
       "      <td>...</td>\n",
       "      <td>...</td>\n",
       "      <td>...</td>\n",
       "      <td>...</td>\n",
       "    </tr>\n",
       "    <tr>\n",
       "      <th>195</th>\n",
       "      <td>B</td>\n",
       "      <td>88</td>\n",
       "      <td>M</td>\n",
       "      <td>76</td>\n",
       "      <td>35</td>\n",
       "      <td>0</td>\n",
       "    </tr>\n",
       "    <tr>\n",
       "      <th>196</th>\n",
       "      <td>B</td>\n",
       "      <td>70</td>\n",
       "      <td>F</td>\n",
       "      <td>48</td>\n",
       "      <td>37</td>\n",
       "      <td>0</td>\n",
       "    </tr>\n",
       "    <tr>\n",
       "      <th>197</th>\n",
       "      <td>B</td>\n",
       "      <td>79</td>\n",
       "      <td>F</td>\n",
       "      <td>66</td>\n",
       "      <td>37</td>\n",
       "      <td>0</td>\n",
       "    </tr>\n",
       "    <tr>\n",
       "      <th>198</th>\n",
       "      <td>B</td>\n",
       "      <td>91</td>\n",
       "      <td>F</td>\n",
       "      <td>88</td>\n",
       "      <td>41</td>\n",
       "      <td>1</td>\n",
       "    </tr>\n",
       "    <tr>\n",
       "      <th>199</th>\n",
       "      <td>B</td>\n",
       "      <td>50</td>\n",
       "      <td>M</td>\n",
       "      <td>73</td>\n",
       "      <td>22</td>\n",
       "      <td>0</td>\n",
       "    </tr>\n",
       "  </tbody>\n",
       "</table>\n",
       "<p>200 rows × 6 columns</p>\n",
       "</div>"
      ],
      "text/plain": [
       "    Treatment  Age Sex  OverallHealthIdx  Time  Censored\n",
       "0           A   95   M                56    39         1\n",
       "1           A   85   M                66    37         1\n",
       "2           A   73   F                67    39         1\n",
       "3           A   62   M                39    23         0\n",
       "4           A   62   M                92    29         0\n",
       "..        ...  ...  ..               ...   ...       ...\n",
       "195         B   88   M                76    35         0\n",
       "196         B   70   F                48    37         0\n",
       "197         B   79   F                66    37         0\n",
       "198         B   91   F                88    41         1\n",
       "199         B   50   M                73    22         0\n",
       "\n",
       "[200 rows x 6 columns]"
      ]
     },
     "execution_count": 4,
     "metadata": {},
     "output_type": "execute_result"
    }
   ],
   "source": [
    "df"
   ]
  },
  {
   "cell_type": "code",
   "execution_count": 5,
   "metadata": {},
   "outputs": [],
   "source": [
    "arr = df.to_numpy()"
   ]
  },
  {
   "cell_type": "code",
   "execution_count": 6,
   "metadata": {},
   "outputs": [
    {
     "data": {
      "text/plain": [
       "array([['A', 95, 'M', 56, 39, 1],\n",
       "       ['A', 85, 'M', 66, 37, 1],\n",
       "       ['A', 73, 'F', 67, 39, 1],\n",
       "       ...,\n",
       "       ['B', 79, 'F', 66, 37, 0],\n",
       "       ['B', 91, 'F', 88, 41, 1],\n",
       "       ['B', 50, 'M', 73, 22, 0]], dtype=object)"
      ]
     },
     "execution_count": 6,
     "metadata": {},
     "output_type": "execute_result"
    }
   ],
   "source": [
    "arr"
   ]
  },
  {
   "cell_type": "code",
   "execution_count": null,
   "metadata": {},
   "outputs": [],
   "source": []
  },
  {
   "cell_type": "code",
   "execution_count": null,
   "metadata": {},
   "outputs": [],
   "source": []
  },
  {
   "cell_type": "code",
   "execution_count": 7,
   "metadata": {},
   "outputs": [
    {
     "data": {
      "text/plain": [
       "array([[95, 'M', 56, 39, 1],\n",
       "       [85, 'M', 66, 37, 1],\n",
       "       [73, 'F', 67, 39, 1],\n",
       "       [62, 'M', 39, 23, 0],\n",
       "       [62, 'M', 92, 29, 0],\n",
       "       [80, 'F', 35, 31, 0],\n",
       "       [84, 'F', 55, 28, 0],\n",
       "       [79, 'F', 51, 35, 0],\n",
       "       [70, 'M', 68, 40, 0],\n",
       "       [72, 'M', 44, 27, 1],\n",
       "       [82, 'M', 61, 29, 1],\n",
       "       [73, 'F', 115, 47, 1],\n",
       "       [87, 'F', 61, 38, 0],\n",
       "       [67, 'M', 91, 24, 0],\n",
       "       [86, 'F', 67, 22, 0],\n",
       "       [60, 'M', 63, 31, 1],\n",
       "       [61, 'F', 70, 40, 1],\n",
       "       [65, 'F', 70, 52, 1],\n",
       "       [70, 'M', 76, 28, 1],\n",
       "       [81, 'M', 63, 52, 1],\n",
       "       [74, 'F', 85, 40, 1],\n",
       "       [86, 'M', 93, 56, 1],\n",
       "       [78, 'F', 72, 21, 0],\n",
       "       [60, 'F', 60, 39, 0],\n",
       "       [79, 'F', 78, 59, 1],\n",
       "       [106, 'M', 97, 48, 1],\n",
       "       [76, 'M', 48, 34, 0],\n",
       "       [88, 'M', 70, 49, 1],\n",
       "       [79, 'F', 47, 36, 1],\n",
       "       [69, 'M', 88, 20, 0],\n",
       "       [73, 'F', 74, 21, 0],\n",
       "       [57, 'F', 59, 22, 1],\n",
       "       [79, 'F', 60, 23, 0],\n",
       "       [95, 'M', 54, 20, 0],\n",
       "       [80, 'F', 85, 38, 1],\n",
       "       [78, 'M', 55, 26, 1],\n",
       "       [66, 'M', 95, 40, 1],\n",
       "       [66, 'F', 66, 40, 1],\n",
       "       [69, 'F', 62, 23, 0],\n",
       "       [89, 'F', 58, 50, 0],\n",
       "       [91, 'F', 80, 29, 0],\n",
       "       [93, 'M', 52, 34, 0],\n",
       "       [85, 'F', 47, 38, 1],\n",
       "       [89, 'M', 79, 48, 1],\n",
       "       [65, 'M', 50, 21, 0],\n",
       "       [91, 'M', 48, 22, 0],\n",
       "       [97, 'M', 90, 42, 0],\n",
       "       [80, 'F', 75, 38, 0],\n",
       "       [90, 'M', 68, 35, 1],\n",
       "       [72, 'M', 95, 31, 0],\n",
       "       [75, 'M', 39, 30, 0],\n",
       "       [76, 'M', 100, 26, 0],\n",
       "       [83, 'M', 72, 23, 0],\n",
       "       [95, 'M', 63, 25, 0],\n",
       "       [81, 'M', 66, 48, 1],\n",
       "       [78, 'F', 72, 29, 0],\n",
       "       [72, 'M', 50, 38, 1],\n",
       "       [61, 'M', 73, 42, 1],\n",
       "       [66, 'F', 51, 50, 1],\n",
       "       [66, 'F', 61, 23, 0],\n",
       "       [77, 'F', 56, 47, 0],\n",
       "       [84, 'M', 60, 25, 0],\n",
       "       [82, 'M', 66, 27, 0],\n",
       "       [77, 'F', 65, 36, 1],\n",
       "       [81, 'M', 74, 31, 1],\n",
       "       [64, 'M', 60, 36, 0],\n",
       "       [48, 'F', 69, 63, 1],\n",
       "       [82, 'M', 50, 34, 1],\n",
       "       [83, 'F', 76, 23, 0],\n",
       "       [79, 'F', 52, 36, 0],\n",
       "       [77, 'M', 75, 42, 1],\n",
       "       [96, 'F', 70, 28, 0],\n",
       "       [74, 'F', 89, 21, 0],\n",
       "       [70, 'F', 47, 29, 0],\n",
       "       [103, 'F', 56, 26, 1],\n",
       "       [64, 'M', 62, 27, 0],\n",
       "       [60, 'M', 48, 42, 1],\n",
       "       [62, 'F', 66, 21, 1],\n",
       "       [70, 'M', 86, 33, 0],\n",
       "       [72, 'M', 56, 21, 0],\n",
       "       [82, 'F', 46, 31, 0],\n",
       "       [96, 'M', 53, 32, 0],\n",
       "       [83, 'M', 69, 36, 0],\n",
       "       [62, 'F', 85, 25, 1],\n",
       "       [86, 'M', 62, 24, 0],\n",
       "       [61, 'M', 73, 29, 0],\n",
       "       [86, 'F', 68, 43, 0],\n",
       "       [70, 'M', 72, 28, 0],\n",
       "       [60, 'F', 56, 29, 0],\n",
       "       [63, 'F', 99, 43, 1],\n",
       "       [81, 'F', 93, 37, 1],\n",
       "       [82, 'M', 61, 22, 0],\n",
       "       [66, 'F', 86, 37, 1],\n",
       "       [69, 'M', 73, 30, 1],\n",
       "       [69, 'M', 53, 44, 0],\n",
       "       [65, 'F', 40, 24, 0],\n",
       "       [83, 'M', 63, 32, 0],\n",
       "       [70, 'F', 89, 51, 0],\n",
       "       [79, 'M', 73, 31, 1],\n",
       "       [80, 'F', 70, 27, 0],\n",
       "       [69, 'M', 110, 24, 0],\n",
       "       [83, 'F', 70, 40, 1],\n",
       "       [75, 'M', 83, 25, 0],\n",
       "       [85, 'F', 80, 34, 1],\n",
       "       [64, 'F', 60, 25, 0],\n",
       "       [70, 'M', 62, 22, 0],\n",
       "       [70, 'F', 57, 28, 0],\n",
       "       [83, 'M', 68, 32, 1],\n",
       "       [89, 'M', 52, 22, 0],\n",
       "       [71, 'M', 86, 33, 0],\n",
       "       [95, 'M', 85, 28, 0],\n",
       "       [84, 'F', 80, 23, 0],\n",
       "       [82, 'F', 73, 25, 1],\n",
       "       [69, 'M', 57, 46, 0],\n",
       "       [100, 'F', 80, 16, 1],\n",
       "       [77, 'M', 72, 43, 0],\n",
       "       [87, 'M', 59, 21, 0],\n",
       "       [86, 'F', 96, 25, 0],\n",
       "       [86, 'F', 54, 20, 0],\n",
       "       [91, 'M', 54, 39, 1],\n",
       "       [65, 'F', 54, 24, 0],\n",
       "       [89, 'F', 67, 34, 1],\n",
       "       [85, 'M', 38, 41, 0],\n",
       "       [93, 'F', 67, 39, 1],\n",
       "       [56, 'F', 83, 36, 0],\n",
       "       [96, 'F', 74, 23, 0],\n",
       "       [74, 'F', 90, 36, 1],\n",
       "       [71, 'F', 74, 28, 1],\n",
       "       [76, 'M', 80, 43, 1],\n",
       "       [84, 'M', 77, 28, 0],\n",
       "       [60, 'M', 71, 31, 0],\n",
       "       [112, 'M', 88, 36, 1],\n",
       "       [85, 'M', 62, 24, 0],\n",
       "       [63, 'M', 47, 24, 0],\n",
       "       [83, 'F', 51, 22, 1],\n",
       "       [98, 'F', 89, 31, 0],\n",
       "       [74, 'M', 65, 34, 1],\n",
       "       [72, 'M', 51, 31, 0],\n",
       "       [74, 'F', 78, 27, 0],\n",
       "       [71, 'F', 75, 21, 0],\n",
       "       [79, 'F', 52, 25, 0],\n",
       "       [84, 'M', 70, 29, 0],\n",
       "       [62, 'M', 85, 29, 0],\n",
       "       [80, 'F', 71, 39, 1],\n",
       "       [85, 'M', 49, 22, 0],\n",
       "       [90, 'M', 53, 29, 0],\n",
       "       [91, 'M', 68, 20, 0],\n",
       "       [85, 'M', 66, 41, 0],\n",
       "       [70, 'M', 73, 26, 0],\n",
       "       [78, 'M', 48, 27, 0],\n",
       "       [73, 'F', 88, 43, 0],\n",
       "       [91, 'F', 41, 40, 1],\n",
       "       [71, 'M', 45, 38, 1],\n",
       "       [87, 'M', 55, 33, 0],\n",
       "       [83, 'F', 72, 42, 0],\n",
       "       [55, 'M', 65, 21, 0],\n",
       "       [68, 'M', 70, 30, 0],\n",
       "       [83, 'M', 44, 26, 0],\n",
       "       [91, 'M', 49, 25, 0],\n",
       "       [83, 'F', 70, 37, 0],\n",
       "       [89, 'F', 52, 22, 0],\n",
       "       [83, 'F', 85, 21, 0],\n",
       "       [96, 'F', 51, 28, 0],\n",
       "       [80, 'M', 88, 39, 0],\n",
       "       [88, 'M', 42, 27, 0],\n",
       "       [48, 'M', 76, 24, 0],\n",
       "       [74, 'M', 70, 44, 0],\n",
       "       [81, 'M', 76, 21, 0],\n",
       "       [69, 'F', 55, 36, 1],\n",
       "       [72, 'M', 78, 22, 0],\n",
       "       [58, 'M', 60, 32, 0],\n",
       "       [75, 'F', 78, 24, 0],\n",
       "       [89, 'F', 83, 46, 1],\n",
       "       [77, 'F', 71, 27, 1],\n",
       "       [76, 'M', 58, 23, 0],\n",
       "       [93, 'M', 68, 32, 0],\n",
       "       [83, 'M', 59, 46, 1],\n",
       "       [66, 'F', 62, 23, 0],\n",
       "       [78, 'M', 65, 26, 0],\n",
       "       [60, 'M', 64, 31, 1],\n",
       "       [65, 'M', 44, 33, 0],\n",
       "       [71, 'F', 46, 39, 1],\n",
       "       [89, 'F', 85, 21, 0],\n",
       "       [71, 'F', 96, 44, 1],\n",
       "       [74, 'F', 85, 36, 0],\n",
       "       [71, 'F', 56, 55, 1],\n",
       "       [81, 'F', 72, 14, 1],\n",
       "       [63, 'M', 64, 29, 0],\n",
       "       [76, 'M', 70, 28, 0],\n",
       "       [87, 'F', 65, 43, 1],\n",
       "       [70, 'F', 39, 36, 0],\n",
       "       [75, 'F', 62, 41, 1],\n",
       "       [64, 'M', 47, 22, 0],\n",
       "       [74, 'F', 80, 30, 0],\n",
       "       [65, 'F', 74, 35, 0],\n",
       "       [88, 'M', 76, 35, 0],\n",
       "       [70, 'F', 48, 37, 0],\n",
       "       [79, 'F', 66, 37, 0],\n",
       "       [91, 'F', 88, 41, 1],\n",
       "       [50, 'M', 73, 22, 0]], dtype=object)"
      ]
     },
     "execution_count": 7,
     "metadata": {},
     "output_type": "execute_result"
    }
   ],
   "source": [
    "# predictors\n",
    "X = arr[:,1:]\n",
    "X"
   ]
  },
  {
   "cell_type": "code",
   "execution_count": 28,
   "metadata": {},
   "outputs": [
    {
     "data": {
      "text/plain": [
       "array(['A', 'A', 'A', 'A', 'A', 'A', 'A', 'A', 'A', 'A', 'A', 'A', 'A',\n",
       "       'A', 'A', 'A', 'A', 'A', 'A', 'A', 'A', 'A', 'A', 'A', 'A', 'A',\n",
       "       'A', 'A', 'A', 'A', 'A', 'A', 'A', 'A', 'A', 'A', 'A', 'A', 'A',\n",
       "       'A', 'A', 'A', 'A', 'A', 'A', 'A', 'A', 'A', 'A', 'A', 'A', 'A',\n",
       "       'A', 'A', 'A', 'A', 'A', 'A', 'A', 'A', 'A', 'A', 'A', 'A', 'A',\n",
       "       'A', 'A', 'A', 'A', 'A', 'A', 'A', 'A', 'A', 'A', 'A', 'A', 'A',\n",
       "       'A', 'A', 'A', 'A', 'A', 'A', 'A', 'A', 'A', 'A', 'A', 'A', 'A',\n",
       "       'A', 'A', 'A', 'A', 'A', 'A', 'A', 'A', 'A', 'B', 'B', 'B', 'B',\n",
       "       'B', 'B', 'B', 'B', 'B', 'B', 'B', 'B', 'B', 'B', 'B', 'B', 'B',\n",
       "       'B', 'B', 'B', 'B', 'B', 'B', 'B', 'B', 'B', 'B', 'B', 'B', 'B',\n",
       "       'B', 'B', 'B', 'B', 'B', 'B', 'B', 'B', 'B', 'B', 'B', 'B', 'B',\n",
       "       'B', 'B', 'B', 'B', 'B', 'B', 'B', 'B', 'B', 'B', 'B', 'B', 'B',\n",
       "       'B', 'B', 'B', 'B', 'B', 'B', 'B', 'B', 'B', 'B', 'B', 'B', 'B',\n",
       "       'B', 'B', 'B', 'B', 'B', 'B', 'B', 'B', 'B', 'B', 'B', 'B', 'B',\n",
       "       'B', 'B', 'B', 'B', 'B', 'B', 'B', 'B', 'B', 'B', 'B', 'B', 'B',\n",
       "       'B', 'B', 'B', 'B', 'B'], dtype=object)"
      ]
     },
     "execution_count": 28,
     "metadata": {},
     "output_type": "execute_result"
    }
   ],
   "source": [
    "# outcome\n",
    "y = arr[:,0]\n",
    "y"
   ]
  },
  {
   "cell_type": "code",
   "execution_count": 31,
   "metadata": {},
   "outputs": [
    {
     "data": {
      "text/plain": [
       "['A', 'B']"
      ]
     },
     "execution_count": 31,
     "metadata": {},
     "output_type": "execute_result"
    }
   ],
   "source": [
    "list(np.unique(df['Treatment']))"
   ]
  },
  {
   "cell_type": "code",
   "execution_count": 9,
   "metadata": {},
   "outputs": [
    {
     "data": {
      "text/plain": [
       "200"
      ]
     },
     "execution_count": 9,
     "metadata": {},
     "output_type": "execute_result"
    }
   ],
   "source": [
    "y.size"
   ]
  },
  {
   "cell_type": "code",
   "execution_count": 43,
   "metadata": {},
   "outputs": [],
   "source": [
    "clf = cart.DecisionTreeClassifier(max_depth=5)"
   ]
  },
  {
   "cell_type": "code",
   "execution_count": 44,
   "metadata": {},
   "outputs": [],
   "source": [
    "clf.fit(X, y)"
   ]
  },
  {
   "cell_type": "code",
   "execution_count": 45,
   "metadata": {},
   "outputs": [
    {
     "name": "stdout",
     "output_type": "stream",
     "text": [
      "                                                                                                                                                                                                                                                                                                              ┌──────────────┐                                                           \n",
      "                                                                                                ┌─────────────────────────────────────────────────────────────────────────────────────────────────────────────────────────────────────────────────────────────────────────────────────────────────────────────┤ Time < 46.50 ├────────────────────────────────────────┐                  \n",
      "                                                                                                │                                                                                                                                                                                                             └──────────────┘                                        │                  \n",
      "                                                                                         ┌──────┴──────┐                                                                                                                                                                                                                                                ┌─────────────┴────────────┐     \n",
      "            ┌────────────────────────────────────────────────────────────────────────────┤ Age < 82.50 ├─────────────────────────────────────────────────────────────────────────────────────────────┐                                                                                                                                     ┌────────────┤ OverallHealthIdx < 57.00 ├──┐  \n",
      "            │                                                                            └─────────────┘                                                                                             │                                                                                                                                     │            └──────────────────────────┘  │  \n",
      "     ┌──────┴──────┐                                                                                                                                                                   ┌─────────────┴────────────┐                                                                                                                ┌───────┴──────┐                                 ╔═╧═╗\n",
      "  ┌──┤ Age < 56.50 ├──────────────────────────────────┐                                                                                  ┌─────────────────────────────────────────────┤ OverallHealthIdx < 76.50 ├────────────────────────────────────────────────────┐                                                        ┌──┤ Time < 52.50 ├──┐                              ║ A ║\n",
      "  │  └─────────────┘                                  │                                                                                  │                                             └──────────────────────────┘                                                    │                                                        │  └──────────────┘  │                              ╚═══╝\n",
      "╔═╧═╗                                        ┌────────┴────────┐                                                                  ┌──────┴──────┐                                                                                                        ┌─────────────┴────────────┐                                         ╔═╧═╗                ╔═╧═╗                                 \n",
      "║ B ║                           ┌────────────┤ Censored < 0.50 ├────────────┐                                        ┌────────────┤ Age < 94.00 ├───────────────────┐                                                                 ┌──────────────────┤ OverallHealthIdx < 89.50 ├────────────┐                            ║ A ║                ║ B ║                                 \n",
      "╚═══╝                           │            └─────────────────┘            │                                        │            └─────────────┘                   │                                                                 │                  └──────────────────────────┘            │                            ╚═══╝                ╚═══╝                                 \n",
      "                         ┌──────┴──────┐                             ┌──────┴──────┐                         ┌───────┴──────┐                         ┌─────────────┴────────────┐                                      ┌─────────────┴────────────┐                                      ┌──────┴──────┐                                                                                \n",
      "                      ┌──┤ Age < 81.50 ├──┐                       ┌──┤ Age < 67.50 ├──┐                   ┌──┤ Time < 38.50 ├──┐                   ┌──┤ OverallHealthIdx < 52.00 ├──┐                                ┌──┤ OverallHealthIdx < 81.50 ├──┐                                ┌──┤ Age < 91.50 ├──┐                                                                             \n",
      "                      │  └─────────────┘  │                       │  └─────────────┘  │                   │  └──────────────┘  │                   │  └──────────────────────────┘  │                                │  └──────────────────────────┘  │                                │  └─────────────┘  │                                                                             \n",
      "                    ╔═╧═╗               ╔═╧═╗                   ╔═╧═╗               ╔═╧═╗               ╔═╧═╗                ╔═╧═╗               ╔═╧═╗                            ╔═╧═╗                            ╔═╧═╗                            ╔═╧═╗                            ╔═╧═╗               ╔═╧═╗                                                                           \n",
      "                    ║ B ║               ║ A ║                   ║ A ║               ║ A ║               ║ B ║                ║ B ║               ║ B ║                            ║ A ║                            ║ B ║                            ║ B ║                            ║ B ║               ║ A ║                                                                           \n",
      "                    ╚═══╝               ╚═══╝                   ╚═══╝               ╚═══╝               ╚═══╝                ╚═══╝               ╚═══╝                            ╚═══╝                            ╚═══╝                            ╚═══╝                            ╚═══╝               ╚═══╝                                                                           \n"
     ]
    }
   ],
   "source": [
    "clf.debug(list(df.columns[1:]),\n",
    "          list(list(np.unique(df['Treatment']))),\n",
    "          False)"
   ]
  },
  {
   "cell_type": "code",
   "execution_count": 27,
   "metadata": {},
   "outputs": [
    {
     "data": {
      "text/plain": [
       "array([0, 1], dtype=object)"
      ]
     },
     "execution_count": 27,
     "metadata": {},
     "output_type": "execute_result"
    }
   ],
   "source": [
    "distinct_classes = np.unique(y)\n",
    "list(df.columns[1:])\n",
    "np.unique(y)"
   ]
  },
  {
   "cell_type": "code",
   "execution_count": 14,
   "metadata": {},
   "outputs": [
    {
     "data": {
      "text/plain": [
       "array([0, 0, 0, 0, 0, 0, 0, 0, 0, 0, 0, 0, 0, 0, 0, 0, 0, 0, 0, 0, 0, 0,\n",
       "       0, 0, 0, 0, 0, 0, 0, 0, 0, 0, 0, 0, 0, 0, 0, 0, 0, 0, 0, 0, 0, 0,\n",
       "       0, 0, 0, 0, 0, 0, 0, 0, 0, 0, 0, 0, 0, 0, 0, 0, 0, 0, 0, 0, 0, 0,\n",
       "       0, 0, 0, 0, 0, 0, 0, 0, 0, 0, 0, 0, 0, 0, 0, 0, 0, 0, 0, 0, 0, 0,\n",
       "       0, 0, 0, 0, 0, 0, 0, 0, 0, 0, 0, 0, 1, 1, 1, 1, 1, 1, 1, 1, 1, 1,\n",
       "       1, 1, 1, 1, 1, 1, 1, 1, 1, 1, 1, 1, 1, 1, 1, 1, 1, 1, 1, 1, 1, 1,\n",
       "       1, 1, 1, 1, 1, 1, 1, 1, 1, 1, 1, 1, 1, 1, 1, 1, 1, 1, 1, 1, 1, 1,\n",
       "       1, 1, 1, 1, 1, 1, 1, 1, 1, 1, 1, 1, 1, 1, 1, 1, 1, 1, 1, 1, 1, 1,\n",
       "       1, 1, 1, 1, 1, 1, 1, 1, 1, 1, 1, 1, 1, 1, 1, 1, 1, 1, 1, 1, 1, 1,\n",
       "       1, 1], dtype=object)"
      ]
     },
     "execution_count": 14,
     "metadata": {},
     "output_type": "execute_result"
    }
   ],
   "source": [
    "for i in range(len(distinct_classes)):\n",
    "    y = np.where(y == distinct_classes[i], i,y)\n",
    "    \n",
    "y"
   ]
  },
  {
   "cell_type": "code",
   "execution_count": 15,
   "metadata": {},
   "outputs": [],
   "source": [
    "num_samples_per_class = [np.sum(y == i) for i in np.unique(y)]"
   ]
  },
  {
   "cell_type": "code",
   "execution_count": 16,
   "metadata": {},
   "outputs": [
    {
     "data": {
      "text/plain": [
       "[100, 100]"
      ]
     },
     "execution_count": 16,
     "metadata": {},
     "output_type": "execute_result"
    }
   ],
   "source": [
    "num_samples_per_class"
   ]
  },
  {
   "cell_type": "code",
   "execution_count": 17,
   "metadata": {},
   "outputs": [],
   "source": [
    "thresholds, classes = zip(*sorted(zip(X[:, idx], y)))"
   ]
  },
  {
   "cell_type": "code",
   "execution_count": 18,
   "metadata": {},
   "outputs": [],
   "source": [
    "idx=1"
   ]
  },
  {
   "cell_type": "code",
   "execution_count": 19,
   "metadata": {},
   "outputs": [
    {
     "data": {
      "text/plain": [
       "5"
      ]
     },
     "execution_count": 19,
     "metadata": {},
     "output_type": "execute_result"
    }
   ],
   "source": [
    "X.shape[1]"
   ]
  },
  {
   "cell_type": "code",
   "execution_count": 20,
   "metadata": {},
   "outputs": [
    {
     "ename": "AttributeError",
     "evalue": "module 'numpy' has no attribute 'isnumeric'",
     "output_type": "error",
     "traceback": [
      "\u001b[0;31m---------------------------------------------------------------------------\u001b[0m",
      "\u001b[0;31mAttributeError\u001b[0m                            Traceback (most recent call last)",
      "\u001b[0;32m<ipython-input-20-67a0f6530308>\u001b[0m in \u001b[0;36m<module>\u001b[0;34m\u001b[0m\n\u001b[0;32m----> 1\u001b[0;31m \u001b[0mnp\u001b[0m\u001b[0;34m.\u001b[0m\u001b[0misnumeric\u001b[0m\u001b[0;34m(\u001b[0m\u001b[0mX\u001b[0m\u001b[0;34m[\u001b[0m\u001b[0;36m1\u001b[0m\u001b[0;34m,\u001b[0m\u001b[0;36m1\u001b[0m\u001b[0;34m]\u001b[0m\u001b[0;34m)\u001b[0m\u001b[0;34m\u001b[0m\u001b[0;34m\u001b[0m\u001b[0m\n\u001b[0m",
      "\u001b[0;31mAttributeError\u001b[0m: module 'numpy' has no attribute 'isnumeric'"
     ]
    }
   ],
   "source": []
  },
  {
   "cell_type": "code",
   "execution_count": null,
   "metadata": {},
   "outputs": [],
   "source": [
    "int == np.number"
   ]
  },
  {
   "cell_type": "code",
   "execution_count": null,
   "metadata": {},
   "outputs": [],
   "source": [
    "type()"
   ]
  },
  {
   "cell_type": "code",
   "execution_count": null,
   "metadata": {},
   "outputs": [],
   "source": [
    "np.issubdtype(X[:,1].dtype, np.str_)"
   ]
  },
  {
   "cell_type": "code",
   "execution_count": null,
   "metadata": {},
   "outputs": [],
   "source": [
    "X[:,1].size"
   ]
  },
  {
   "cell_type": "code",
   "execution_count": null,
   "metadata": {},
   "outputs": [],
   "source": [
    "X[:,1].max()"
   ]
  },
  {
   "cell_type": "code",
   "execution_count": null,
   "metadata": {},
   "outputs": [],
   "source": [
    "for i in range(len(X[1,:])):\n",
    "            var = X[:,i]\n",
    "            if type(var[1]) == str:\n",
    "                cats = np.unique(var)\n",
    "                if len(cats) == 2:\n",
    "                    X[:,i] = np.where(var == cats[1],0,1)"
   ]
  },
  {
   "cell_type": "code",
   "execution_count": null,
   "metadata": {},
   "outputs": [],
   "source": [
    "X"
   ]
  },
  {
   "cell_type": "code",
   "execution_count": null,
   "metadata": {},
   "outputs": [],
   "source": []
  }
 ],
 "metadata": {
  "kernelspec": {
   "display_name": "Python 3",
   "language": "python",
   "name": "python3"
  },
  "language_info": {
   "codemirror_mode": {
    "name": "ipython",
    "version": 3
   },
   "file_extension": ".py",
   "mimetype": "text/x-python",
   "name": "python",
   "nbconvert_exporter": "python",
   "pygments_lexer": "ipython3",
   "version": "3.6.9"
  }
 },
 "nbformat": 4,
 "nbformat_minor": 4
}
