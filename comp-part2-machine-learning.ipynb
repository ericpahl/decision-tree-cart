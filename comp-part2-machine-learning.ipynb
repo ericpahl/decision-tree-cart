{
 "cells": [
  {
   "cell_type": "markdown",
   "metadata": {},
   "source": [
    "# Part 2 Machine Learning\n",
    "Eric Pahl\n",
    "\n",
    "The line of questioning for this part of Eric Pahl’s comprehensive exam probes the depth of his understanding related to common assertions made about random decision forest.\n",
    "\n",
    "## Problem 2.1: Implementation\n",
    "\n",
    "Gini Impurity Index is a standard criterion used when constructing individual decision trees for a random forest implementation. Reusing the data set “ExampleData.csv” provided in Part 1, but now assuming that this data set represents a retrospective observational study that records which treatments a physician chooses based on the other variables.  For Part 2, interpret the variables as:\n",
    "\n",
    "|Variable name|Data Type|Description|\n",
    "|-------------|---------|-----------|\n",
    "|Treatment<br>(output category)|Categorical|A: Branded drug <br>B: Generic Drug|\n",
    "|Age|Integer|Age in years after birth|\n",
    "|Sex|Categorical|M: Male,<br> F: Female|\n",
    "|OverallHealthIdx|Integer|Score from a self-reported questionnaire|\n",
    "|Time|Integer|Number of hours since emergency room admission|\n",
    "|Censored <br>(poorly named variable)|Categorical|The identifier of the physician type:<br>0: Internal Medicine doctor, <br>1: Family Medicine doctor|"
   ]
  },
  {
   "cell_type": "markdown",
   "metadata": {},
   "source": [
    "### a) Create a fork of the code associated with the article (https://github.com/joachimvalente/decision-tree-cart) for the modifications.  Store the results of part1 under your forked repositories branch named “part1_comps”.\n",
    "Done. See https://github.com/ericpahl/decision-tree-cart/tree/part1_comps.\n",
    "\n",
    "### b)\tModify the source code to generate a pictorial representation of the tree associated with applying the described algorithm to the data provided using a maximum tree depth of 1,000,000.\n",
    "Carefully report the data manipulations or code modifications that are necessary to complete this task.  It is *NOT* acceptable to pre-process or modify the input data outside of this codebase.  The resulting changes needed to investigate the newly provided data set should not break the existing functionality of the program.\n",
    "\n",
    "1. I read the Cart.py documentation and ran the main function to confirm it was working in its default configuration with prespecified datasets (iris, wifi, and breast).\n",
    "1. I noticed that ExampleData.csv included incompatible datatypes like char and str when only numeric data were acceptable for the DecisionTreeClassifier.\n",
    "1. I created two checks and conversions in the fit function within DecisionTreeClassifier code cart.py. \n",
    "    1. Convert the outcome varible to numeric 0 to n-1\n",
    "    1. Convert binary str variables to 0 and 1\n",
    "1. I ran the main function again to make sure that I did not break any existing functionality required for iris, breast, and wifi.\n",
    "1. I fit the ExampleData successfully with max_depth 1,000,000 and used the debug function to print the tree. Unfortunately, this is an wieldly output and is difficult to see. I've created a video that helps explain what is going on, available here: https://www.loom.com/share/08580ccf1f2b4e62bab8fd03c096d422\n",
    " "
   ]
  },
  {
   "cell_type": "code",
   "execution_count": 1,
   "metadata": {},
   "outputs": [
    {
     "data": {
      "text/html": [
       "<div>\n",
       "<style scoped>\n",
       "    .dataframe tbody tr th:only-of-type {\n",
       "        vertical-align: middle;\n",
       "    }\n",
       "\n",
       "    .dataframe tbody tr th {\n",
       "        vertical-align: top;\n",
       "    }\n",
       "\n",
       "    .dataframe thead th {\n",
       "        text-align: right;\n",
       "    }\n",
       "</style>\n",
       "<table border=\"1\" class=\"dataframe\">\n",
       "  <thead>\n",
       "    <tr style=\"text-align: right;\">\n",
       "      <th></th>\n",
       "      <th>Treatment</th>\n",
       "      <th>Age</th>\n",
       "      <th>Sex</th>\n",
       "      <th>OverallHealthIdx</th>\n",
       "      <th>Time</th>\n",
       "      <th>Censored</th>\n",
       "    </tr>\n",
       "  </thead>\n",
       "  <tbody>\n",
       "    <tr>\n",
       "      <th>0</th>\n",
       "      <td>A</td>\n",
       "      <td>95</td>\n",
       "      <td>M</td>\n",
       "      <td>56</td>\n",
       "      <td>39</td>\n",
       "      <td>1</td>\n",
       "    </tr>\n",
       "    <tr>\n",
       "      <th>1</th>\n",
       "      <td>A</td>\n",
       "      <td>85</td>\n",
       "      <td>M</td>\n",
       "      <td>66</td>\n",
       "      <td>37</td>\n",
       "      <td>1</td>\n",
       "    </tr>\n",
       "    <tr>\n",
       "      <th>2</th>\n",
       "      <td>A</td>\n",
       "      <td>73</td>\n",
       "      <td>F</td>\n",
       "      <td>67</td>\n",
       "      <td>39</td>\n",
       "      <td>1</td>\n",
       "    </tr>\n",
       "    <tr>\n",
       "      <th>3</th>\n",
       "      <td>A</td>\n",
       "      <td>62</td>\n",
       "      <td>M</td>\n",
       "      <td>39</td>\n",
       "      <td>23</td>\n",
       "      <td>0</td>\n",
       "    </tr>\n",
       "    <tr>\n",
       "      <th>4</th>\n",
       "      <td>A</td>\n",
       "      <td>62</td>\n",
       "      <td>M</td>\n",
       "      <td>92</td>\n",
       "      <td>29</td>\n",
       "      <td>0</td>\n",
       "    </tr>\n",
       "  </tbody>\n",
       "</table>\n",
       "</div>"
      ],
      "text/plain": [
       "  Treatment  Age Sex  OverallHealthIdx  Time  Censored\n",
       "0         A   95   M                56    39         1\n",
       "1         A   85   M                66    37         1\n",
       "2         A   73   F                67    39         1\n",
       "3         A   62   M                39    23         0\n",
       "4         A   62   M                92    29         0"
      ]
     },
     "execution_count": 1,
     "metadata": {},
     "output_type": "execute_result"
    }
   ],
   "source": [
    "#%pip3 install pandas\n",
    "import numpy as np\n",
    "import pandas as pd\n",
    "import cart\n",
    "import categorical_gini\n",
    "import continuous_gini\n",
    "import minimal_cart\n",
    "import tree\n",
    "import matplotlib.pyplot as plt\n",
    "\n",
    "df = pd.read_csv('~/ExampleData.csv')\n",
    "df.head()"
   ]
  },
  {
   "cell_type": "code",
   "execution_count": 2,
   "metadata": {
    "scrolled": true
   },
   "outputs": [
    {
     "data": {
      "text/html": [
       "<div>\n",
       "<style scoped>\n",
       "    .dataframe tbody tr th:only-of-type {\n",
       "        vertical-align: middle;\n",
       "    }\n",
       "\n",
       "    .dataframe tbody tr th {\n",
       "        vertical-align: top;\n",
       "    }\n",
       "\n",
       "    .dataframe thead th {\n",
       "        text-align: right;\n",
       "    }\n",
       "</style>\n",
       "<table border=\"1\" class=\"dataframe\">\n",
       "  <thead>\n",
       "    <tr style=\"text-align: right;\">\n",
       "      <th></th>\n",
       "      <th>Treatment</th>\n",
       "      <th>Age</th>\n",
       "      <th>Sex</th>\n",
       "      <th>OverallHealthIdx</th>\n",
       "      <th>Time</th>\n",
       "      <th>Censored</th>\n",
       "    </tr>\n",
       "  </thead>\n",
       "  <tbody>\n",
       "    <tr>\n",
       "      <th>count</th>\n",
       "      <td>200</td>\n",
       "      <td>200.000000</td>\n",
       "      <td>200</td>\n",
       "      <td>200.000000</td>\n",
       "      <td>200.000000</td>\n",
       "      <td>200.000000</td>\n",
       "    </tr>\n",
       "    <tr>\n",
       "      <th>unique</th>\n",
       "      <td>2</td>\n",
       "      <td>NaN</td>\n",
       "      <td>2</td>\n",
       "      <td>NaN</td>\n",
       "      <td>NaN</td>\n",
       "      <td>NaN</td>\n",
       "    </tr>\n",
       "    <tr>\n",
       "      <th>top</th>\n",
       "      <td>B</td>\n",
       "      <td>NaN</td>\n",
       "      <td>M</td>\n",
       "      <td>NaN</td>\n",
       "      <td>NaN</td>\n",
       "      <td>NaN</td>\n",
       "    </tr>\n",
       "    <tr>\n",
       "      <th>freq</th>\n",
       "      <td>100</td>\n",
       "      <td>NaN</td>\n",
       "      <td>105</td>\n",
       "      <td>NaN</td>\n",
       "      <td>NaN</td>\n",
       "      <td>NaN</td>\n",
       "    </tr>\n",
       "    <tr>\n",
       "      <th>mean</th>\n",
       "      <td>NaN</td>\n",
       "      <td>77.200000</td>\n",
       "      <td>NaN</td>\n",
       "      <td>67.220000</td>\n",
       "      <td>32.245000</td>\n",
       "      <td>0.360000</td>\n",
       "    </tr>\n",
       "    <tr>\n",
       "      <th>std</th>\n",
       "      <td>NaN</td>\n",
       "      <td>11.285692</td>\n",
       "      <td>NaN</td>\n",
       "      <td>15.213113</td>\n",
       "      <td>9.092212</td>\n",
       "      <td>0.481205</td>\n",
       "    </tr>\n",
       "    <tr>\n",
       "      <th>min</th>\n",
       "      <td>NaN</td>\n",
       "      <td>48.000000</td>\n",
       "      <td>NaN</td>\n",
       "      <td>35.000000</td>\n",
       "      <td>14.000000</td>\n",
       "      <td>0.000000</td>\n",
       "    </tr>\n",
       "    <tr>\n",
       "      <th>25%</th>\n",
       "      <td>NaN</td>\n",
       "      <td>70.000000</td>\n",
       "      <td>NaN</td>\n",
       "      <td>55.750000</td>\n",
       "      <td>25.000000</td>\n",
       "      <td>0.000000</td>\n",
       "    </tr>\n",
       "    <tr>\n",
       "      <th>50%</th>\n",
       "      <td>NaN</td>\n",
       "      <td>78.000000</td>\n",
       "      <td>NaN</td>\n",
       "      <td>67.000000</td>\n",
       "      <td>31.000000</td>\n",
       "      <td>0.000000</td>\n",
       "    </tr>\n",
       "    <tr>\n",
       "      <th>75%</th>\n",
       "      <td>NaN</td>\n",
       "      <td>85.000000</td>\n",
       "      <td>NaN</td>\n",
       "      <td>76.000000</td>\n",
       "      <td>39.000000</td>\n",
       "      <td>1.000000</td>\n",
       "    </tr>\n",
       "    <tr>\n",
       "      <th>max</th>\n",
       "      <td>NaN</td>\n",
       "      <td>112.000000</td>\n",
       "      <td>NaN</td>\n",
       "      <td>115.000000</td>\n",
       "      <td>63.000000</td>\n",
       "      <td>1.000000</td>\n",
       "    </tr>\n",
       "  </tbody>\n",
       "</table>\n",
       "</div>"
      ],
      "text/plain": [
       "       Treatment         Age  Sex  OverallHealthIdx        Time    Censored\n",
       "count        200  200.000000  200        200.000000  200.000000  200.000000\n",
       "unique         2         NaN    2               NaN         NaN         NaN\n",
       "top            B         NaN    M               NaN         NaN         NaN\n",
       "freq         100         NaN  105               NaN         NaN         NaN\n",
       "mean         NaN   77.200000  NaN         67.220000   32.245000    0.360000\n",
       "std          NaN   11.285692  NaN         15.213113    9.092212    0.481205\n",
       "min          NaN   48.000000  NaN         35.000000   14.000000    0.000000\n",
       "25%          NaN   70.000000  NaN         55.750000   25.000000    0.000000\n",
       "50%          NaN   78.000000  NaN         67.000000   31.000000    0.000000\n",
       "75%          NaN   85.000000  NaN         76.000000   39.000000    1.000000\n",
       "max          NaN  112.000000  NaN        115.000000   63.000000    1.000000"
      ]
     },
     "execution_count": 2,
     "metadata": {},
     "output_type": "execute_result"
    }
   ],
   "source": [
    "df.describe(include='all')"
   ]
  },
  {
   "cell_type": "code",
   "execution_count": 3,
   "metadata": {},
   "outputs": [],
   "source": [
    "# convert to numpy array\n",
    "arr = df.to_numpy()"
   ]
  },
  {
   "cell_type": "code",
   "execution_count": 4,
   "metadata": {},
   "outputs": [],
   "source": [
    "# predictors\n",
    "X = arr[:,1:]"
   ]
  },
  {
   "cell_type": "code",
   "execution_count": 5,
   "metadata": {},
   "outputs": [],
   "source": [
    "# outcome\n",
    "y = arr[:,0]"
   ]
  },
  {
   "cell_type": "code",
   "execution_count": 6,
   "metadata": {},
   "outputs": [],
   "source": [
    "# create the classifier per max_depth\n",
    "clf = cart.DecisionTreeClassifier(max_depth=1000000)"
   ]
  },
  {
   "cell_type": "code",
   "execution_count": 7,
   "metadata": {},
   "outputs": [],
   "source": [
    "# train the classifier with predictors and outcome\n",
    "clf.fit(X, y)"
   ]
  },
  {
   "cell_type": "code",
   "execution_count": 17,
   "metadata": {},
   "outputs": [],
   "source": [
    "%%capture cap --no-stderr\n",
    "# print the tree\n",
    "clf.debug(list(df.columns[1:]),\n",
    "          list(list(np.unique(df['Treatment']))),\n",
    "          False)"
   ]
  },
  {
   "cell_type": "code",
   "execution_count": 9,
   "metadata": {},
   "outputs": [],
   "source": [
    "with open('tree.txt', 'w') as f:\n",
    "    f.write(cap.stdout)"
   ]
  },
  {
   "cell_type": "markdown",
   "metadata": {},
   "source": [
    "### c)\tIn your report, describe the Gini impurity Index, including its origins, intuitive meaning, and mathematical implementation.\n",
    "There are two common splitting criteria for nodes when training decision-tree-based classifiers, Gini Index and Information Gain. The Gini Impurity Index (gini) is a simple measure of impurity in a set of observations. The gini was introduced in the early 20th century by Corrado Gini. \n",
    "\n",
    "Intuitively, gini is the chance of incorrectly classifying any given observations in the set. If there is a 50/50 split, then the gini is $0.5$. If there is a 75/25 split, then the gini is calculated by adding the incorrect probabilites, $0.75 * 0.25 + 0.25 * 0.75 = 0.375$ the impurity is reduced when the set becomes more homogeneous. The equation is $gini = \\sum^C_{i=1} p(i) * (1-p(i))$ where $C$ is number of classes and $p(i)$ is the probability of picking an observation with class $i$.\n",
    "\n",
    "\n",
    "### d)\tProvide a simple function implementing the mathematical formulation of the Gini impurity Index that computes the Gini impurity index\n",
    "In the Python programming language, in a new file named \"categorical_gini.py\" under the “part1_comps” branch.  Report the Gini impurity index for the categorical variables [\"Sex,\" \"Censored\"] with respect to Treatment variable in the table above. The resulting code must be well documented and easy to understand by other non-expert programmers. Report any assumptions or limitations to apply this function.  \n",
    "\n",
    "For the categorical_gini.py function, there are some assumptions and limitations. This function is only appropriate for binary categorical variables and categorical outcomes. The function assumes that there will be three inputs, an __X__ numpy array of observations (row) and variables (columns), __y__ vector of outcomes, and __varIdx__ the column index of __X__ of the variable in question to calculate the gini index. \n",
    "\n",
    "\n"
   ]
  },
  {
   "cell_type": "code",
   "execution_count": 10,
   "metadata": {},
   "outputs": [
    {
     "name": "stdout",
     "output_type": "stream",
     "text": [
      "Sex Gini: 0.4999496234320136\n",
      "Censored Gini: 0.48755711684992287\n"
     ]
    }
   ],
   "source": [
    "import categorical_gini as cat_gini\n",
    "\n",
    "# index of variable to calculate\n",
    "sexIdx = 1       # idx is 1 for Sex\n",
    "censoredIdx = 4  # idx is 4 for Censored\n",
    "\n",
    "print(\"Sex Gini: \" + str(cat_gini.categorical_gini(X,y,sexIdx)))\n",
    "print(\"Censored Gini: \" + str(cat_gini.categorical_gini(X,y,censoredIdx)))"
   ]
  },
  {
   "cell_type": "markdown",
   "metadata": {},
   "source": [
    "### e)\tProvide a simple function implementing the mathematical formulation for identifying both the optimal Gini impurity index and the threshold for optimality of a continuous variable.\n",
    "In the Python programming language, in a new file named \"continuous_gini.py\" under the “part1_comps” branch.  Report both the optimal Gini impurity index and the associated threshold for the categorical variables [\"Age,\" \"OverallHealthIdx,\" \"Time\"] with respect to Treatment in the table above. The resulting code must be well documented and easy to understand by other non-expert programmers. Report any assumptions or limitations to apply this function.\n",
    "\n",
    "For the continuous_gini.py function, there are some assumptions and limitations. This function is only appropriate for continuous variables and categorical outcomes. The function assumes that there will be three inputs, an __X__ numpy array of observations (row) and variables (columns), __y__ vector of outcomes, and __varIdx__ the column index of __X__ of the variable in question to calculate the gini index. \n"
   ]
  },
  {
   "cell_type": "code",
   "execution_count": 11,
   "metadata": {},
   "outputs": [
    {
     "name": "stdout",
     "output_type": "stream",
     "text": [
      "Age (Gini,Threshold): (0.4892307692307692, 82.5)\n",
      "OverallHealthIdx (Gini,Threshold): (0.4899218428630194, 90.5)\n",
      "Time (Gini,Threshold): (0.4695495495495496, 46.5)\n"
     ]
    }
   ],
   "source": [
    "import continuous_gini as cont_gini\n",
    "# index of variable to calculate\n",
    "TimeIdx = 3       # idx is 3 for Time\n",
    "AgeIdx = 0       # idx is 0 for Age\n",
    "OverallHealthIdx = 2 # idx is 2 for overallhealthidx\n",
    "\n",
    "print(\"Age (Gini,Threshold): \" + str(cont_gini.continuous_gini(X,y,AgeIdx)))\n",
    "print(\"OverallHealthIdx (Gini,Threshold): \" + str(cont_gini.continuous_gini(X,y,OverallHealthIdx)))\n",
    "print(\"Time (Gini,Threshold): \" + str(cont_gini.continuous_gini(X,y,TimeIdx)))\n"
   ]
  },
  {
   "cell_type": "markdown",
   "metadata": {},
   "source": [
    "## Problem 2.2: Assumptions, Limitations, and Generalization\n",
    "A model generated with the program in Part 2.1 can be used to predict outcomes given a set of input variables [“Age\", \"Sex”, “OverallHealthIdx”, “Time\", \"Censored”].  Assume that the provided 200 sample dataset ‘ExampleData.csv’ is the initial public release of data to be used for developing a predictive model to be submitted for evaluation on a large private dataset of 5 million samples.  Create a new branch called “part2_comps” for any changes made in this section.\n",
    "\n",
    "\n",
    "### a)\tFor the model generated with a tree depth of 1,000,000, what is the accuracy of the model for the ‘ExampleData.csv’ dataset?\n"
   ]
  },
  {
   "cell_type": "code",
   "execution_count": 12,
   "metadata": {},
   "outputs": [
    {
     "name": "stdout",
     "output_type": "stream",
     "text": [
      "Training Accuracy = 100.0%\n",
      "Testing Accuracy = 53.06122448979592%\n"
     ]
    }
   ],
   "source": [
    "# create training and testing subsets\n",
    "arr = df.to_numpy()\n",
    "# shuffle rows\n",
    "np.random.shuffle(arr)\n",
    "# predictors\n",
    "X = arr[:,1:]\n",
    "# outcome\n",
    "y = arr[:,0]\n",
    "# train on first 150 observation\n",
    "# :150\n",
    "\n",
    "# test on the rest\n",
    "# 151:\n",
    "\n",
    "# create the classifier per max_depth\n",
    "clf = cart.DecisionTreeClassifier(max_depth=1000000)\n",
    "\n",
    "clf.fit(X[:151,:],y[:151])\n",
    "\n",
    "# predict train values\n",
    "y0 = clf.predict(X[:151,:])\n",
    "\n",
    "# calculate training accuracy\n",
    "print(\"Training Accuracy = \"+str(np.mean(y0 == y[:151])*100) + \"%\")\n",
    "\n",
    "# predict test values\n",
    "y1 = clf.predict(X[151:,:])\n",
    "\n",
    "# calculate testing accuracy\n",
    "print(\"Testing Accuracy = \"+str(np.mean(y1 == y[151:])*100) + \"%\")"
   ]
  },
  {
   "cell_type": "markdown",
   "metadata": {},
   "source": [
    "The training and testing accuracy for the model are different because the model is clearly overfit with a max depth of 1M and only 200 total observations. The test was a subset of the data held out during the training process and then used to test the model for applicability on data. We used a heldout set of 50 observations (25% of the example) to represent the 5 million samples available in the private dataset. Since these samples aren't used in the training we can assume that the classifier is likely to perform similar to the Test accuracy when applied to the private data."
   ]
  },
  {
   "cell_type": "markdown",
   "metadata": {},
   "source": [
    "\n",
    "### b)\tCreate models for various maximum depths and report (both graphically and in prose) on the effect of tree depth on the accuracy of the models with respect to the 200 samples provided in ‘ExampleData.csv’ data.\n",
    "\n"
   ]
  },
  {
   "cell_type": "code",
   "execution_count": 13,
   "metadata": {},
   "outputs": [
    {
     "data": {
      "image/png": "[encoded data removed]",
      "text/plain": [
       "<Figure size 432x288 with 1 Axes>"
      ]
     },
     "metadata": {
      "needs_background": "light"
     },
     "output_type": "display_data"
    }
   ],
   "source": [
    "max_depths = [1,2,3,5,8,10,25,75,150,1000,10000,100000,1000000]\n",
    "\n",
    "accu = []\n",
    "\n",
    "for i in range(len(max_depths)):\n",
    "    clftmp = cart.DecisionTreeClassifier(max_depth=max_depths[i])\n",
    "    clftmp.fit(X[:150,:],y[:150])\n",
    "    ytmp = clftmp.predict(X[150:,:])\n",
    "    accu.append(np.mean(ytmp == y[150:]))\n",
    "    \n",
    "plt.plot(max_depths,accu)\n",
    "plt.xlabel('Max Depth')\n",
    "plt.xscale('log')\n",
    "plt.ylabel('Test Accuracy')\n",
    "plt.show()\n"
   ]
  },
  {
   "cell_type": "markdown",
   "metadata": {},
   "source": [
    "\n"
   ]
  },
  {
   "cell_type": "markdown",
   "metadata": {},
   "source": [
    "Shown in the figure above, the test accuracy levels out as Max Depth gets larger and there is no benefit after 100 for this situation. Since the test set is only 25% of the ExampleData and only 50 samples, each time this experiment is executed the random \"shuffle\" of the variables changes the results for max depths less than 50. \n",
    "\n",
    "### c)\tUsing the algorithm completed for Part A, describe a process that will generate a better model for predicting the private evaluation data set.\n",
    "In the describing the approach, include a details about the process, assumptions that are made about both the model and data characteristics, methods for evaluating criteria, and any other support justifying the assertion that this new model configuration would be applicable to the larger dataset, and any other support.\n",
    "\n",
    "This model is significantly overtrained. With a max depth of 1000000, the decision tree is capable of uniquely classifying every single observation in the 200 observations. In order to build a model that translates better to a larger dataset or a different dataset we must separate the training, validation, and testing samples. This contrast what has been done in 2.2a because the training and testing data were the same, using a held out validation or testing dataset that is not used during training will promote better translation to new obserations, in this case, the larger private dataset.\n",
    "\n",
    "Another option is to use 10-fold cross-validation where the average testing accuracy over 10 experiments with 10 folds (10%) of the ExampleData used for each respective experiment. This provides a way to estimate a better test accuracy considering an application on a much larger private dataset."
   ]
  },
  {
   "cell_type": "code",
   "execution_count": 14,
   "metadata": {},
   "outputs": [],
   "source": [
    "# 10 k-fold cross validation\n",
    "k = 10\n",
    "\n",
    "# fold size\n",
    "fold = int(len(y)/k)\n",
    "\n",
    "ksets = range(fold, len(y), fold)\n",
    "\n",
    "test_acc = []\n",
    "\n",
    "clftmp = cart.DecisionTreeClassifier(max_depth=1000000)"
   ]
  },
  {
   "cell_type": "code",
   "execution_count": 15,
   "metadata": {},
   "outputs": [
    {
     "name": "stdout",
     "output_type": "stream",
     "text": [
      "first fold: 0.45\n",
      "middle fold: 0.4\n",
      "middle fold: 0.7\n",
      "middle fold: 0.5\n",
      "middle fold: 0.5\n",
      "middle fold: 0.55\n",
      "middle fold: 0.6\n",
      "middle fold: 0.4\n",
      "middle fold: 0.3\n",
      "last fold: 0.5111111111111111\n",
      "10-fold cross validation accuracy is: 0.49111111111111105\n"
     ]
    }
   ],
   "source": [
    "for i in ksets:\n",
    "    # first fold\n",
    "    if i == fold:\n",
    "        clftmp.fit(X[:len(y)-i,:],y[:len(y)-i])\n",
    "        ytmp = clftmp.predict(X[len(y)-i:,:])\n",
    "        meantmp = np.mean(ytmp == y[len(y)-i:])\n",
    "        test_acc.append(meantmp)\n",
    "        print(\"first fold: \"+str(meantmp))\n",
    "    # last fold\n",
    "    if i == len(y)-fold:\n",
    "        clftmp.fit(X[i:,:],y[i:])\n",
    "        ytmp = clftmp.predict(X[:i,:])\n",
    "        meantmp = np.mean(ytmp == y[:i])\n",
    "        test_acc.append(meantmp)\n",
    "        print(\"last fold: \"+str(meantmp))\n",
    "    # middle fold\n",
    "    else:\n",
    "        # before and after folds must be concatenated\n",
    "        midX = np.concatenate([X[:i-fold,:],X[i:,:]])\n",
    "        midy = np.concatenate([y[:i-fold],y[i:]])\n",
    "        clftmp.fit(midX,midy)\n",
    "        ytmp = clftmp.predict(X[i-fold:i,:])\n",
    "        meantmp = np.mean(ytmp == y[i-fold:i])\n",
    "        test_acc.append(meantmp)\n",
    "        print(\"middle fold: \"+str(meantmp))\n",
    "    \n",
    "print(str(k)+\"-fold cross validation accuracy is: \"+str(np.mean(test_acc)))"
   ]
  },
  {
   "cell_type": "markdown",
   "metadata": {},
   "source": [
    "## Problem 2.3: Interpretation\n",
    "Now consider the extension of decision trees into the random forest (RF) ensemble prediction method. \n",
    "\n",
    "Describe the original RF algorithm. \n",
    "\n",
    "  - The original RF algorithm was described by Leo Breiman in 2001. The RF algorithm combines the following concepts: Ensemble, bagging, and random split selection for decision trees. \n",
    "  - Use of the Strong Law of Large Numbers shows that they always converge so that overfitting is not a problem. The accuracy of a random forest depends on the strength of the individual tree classifiers and a measure of the dependence between them.\n",
    "  - The random selection of features at each node to determine the split. An important question is how many features to select at each node. Two different forms of random features. The first uses random selection from the original inputs; the second uses random linear combinations of inputs. \n",
    "  - Bagging is used with random feature selection and these nicely complement each other. Bagging increases accuracy when random features are used and bagging can give out of bag estimates for generalizing error. Bagged classifiers have demonstrated empirically that out of bag estimates are as accurate as using a test set of the same size of the training set (basically, you need 1/2 as much data!).\n",
    "  - For my qualifier exam (Spring 2017), I created two slides (9 and 10) that illustrate the RF algorithm available here: https://iowa-my.sharepoint.com/:p:/g/personal/epahl_uiowa_edu/Eb_o2xoTmmJAkLTh28rLDhwBUEI_-on8DKYX11Pfi2COMQ?e=JIKkKw.\n",
    "  - \n",
    "\n",
    "What specific advantages and disadvantages does it have over decision trees, and in general over other competitor methods? \n",
    "\n",
    "  - \n",
    "\n",
    "Examine the generalization capabilities of the RF algorithm, both theoretically (in light of the bias-variance trade-off and the strength-diversity decomposition for ensembles) and in practice (using comparative literature review). \n",
    "\n",
    "On what sorts of datasets should the algorithm be expected to perform particularly well, relative to other state-of-the-art classification algorithms? \n",
    "\n",
    "In what ways (if any) can an RF model be interpreted, or its predictions be explained? \n",
    "\n",
    "Finally, how do decision trees (and therefore random forests) deal with missing feature values? \n",
    "\n",
    "In what way would you expect this mechanism to affect the performance of the algorithm?"
   ]
  },
  {
   "cell_type": "code",
   "execution_count": null,
   "metadata": {},
   "outputs": [],
   "source": []
  },
  {
   "cell_type": "code",
   "execution_count": null,
   "metadata": {},
   "outputs": [],
   "source": []
  },
  {
   "cell_type": "code",
   "execution_count": null,
   "metadata": {},
   "outputs": [],
   "source": []
  },
  {
   "cell_type": "code",
   "execution_count": null,
   "metadata": {},
   "outputs": [],
   "source": []
  },
  {
   "cell_type": "code",
   "execution_count": null,
   "metadata": {},
   "outputs": [],
   "source": []
  },
  {
   "cell_type": "code",
   "execution_count": null,
   "metadata": {},
   "outputs": [],
   "source": []
  },
  {
   "cell_type": "code",
   "execution_count": null,
   "metadata": {},
   "outputs": [],
   "source": []
  },
  {
   "cell_type": "code",
   "execution_count": null,
   "metadata": {},
   "outputs": [],
   "source": []
  },
  {
   "cell_type": "code",
   "execution_count": null,
   "metadata": {},
   "outputs": [],
   "source": []
  },
  {
   "cell_type": "code",
   "execution_count": null,
   "metadata": {},
   "outputs": [],
   "source": []
  },
  {
   "cell_type": "code",
   "execution_count": null,
   "metadata": {},
   "outputs": [],
   "source": []
  },
  {
   "cell_type": "code",
   "execution_count": null,
   "metadata": {},
   "outputs": [],
   "source": []
  },
  {
   "cell_type": "code",
   "execution_count": null,
   "metadata": {},
   "outputs": [],
   "source": []
  },
  {
   "cell_type": "code",
   "execution_count": null,
   "metadata": {},
   "outputs": [],
   "source": []
  }
 ],
 "metadata": {
  "kernelspec": {
   "display_name": "Python 3",
   "language": "python",
   "name": "python3"
  },
  "language_info": {
   "codemirror_mode": {
    "name": "ipython",
    "version": 3
   },
   "file_extension": ".py",
   "mimetype": "text/x-python",
   "name": "python",
   "nbconvert_exporter": "python",
   "pygments_lexer": "ipython3",
   "version": "3.6.9"
  }
 },
 "nbformat": 4,
 "nbformat_minor": 4
}
